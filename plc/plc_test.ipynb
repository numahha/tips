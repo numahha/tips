{
 "cells": [
  {
   "cell_type": "code",
   "execution_count": 2,
   "id": "32bd7bba",
   "metadata": {},
   "outputs": [],
   "source": [
    "import pymcprotocol\n",
    "import time\n",
    "\n",
    "pymc3e = pymcprotocol.Type3E()\n",
    "pymc3e.connect(\"192.168.3.36\", 3003)\n"
   ]
  },
  {
   "cell_type": "code",
   "execution_count": 4,
   "id": "f240ec60",
   "metadata": {},
   "outputs": [],
   "source": [
    "for i in range(10):\n",
    "    pymc3e.batchwrite_wordunits(headdevice=\"W001010\", values=[i,2*i,3*i,4*i,5*i,6*i,7*i,8*i]) # PV\n",
    "    time.sleep(1)"
   ]
  },
  {
   "cell_type": "code",
   "execution_count": 6,
   "id": "6e32ccb2",
   "metadata": {},
   "outputs": [
    {
     "name": "stdout",
     "output_type": "stream",
     "text": [
      "[-9, -18, -27, -36]\n"
     ]
    }
   ],
   "source": [
    "print(pymc3e.batchread_wordunits(headdevice=\"D008510\", readsize=4)) # MV"
   ]
  },
  {
   "cell_type": "code",
   "execution_count": null,
   "id": "acd5b770",
   "metadata": {},
   "outputs": [],
   "source": []
  }
 ],
 "metadata": {
  "kernelspec": {
   "display_name": "Python 3 (ipykernel)",
   "language": "python",
   "name": "python3"
  },
  "language_info": {
   "codemirror_mode": {
    "name": "ipython",
    "version": 3
   },
   "file_extension": ".py",
   "mimetype": "text/x-python",
   "name": "python",
   "nbconvert_exporter": "python",
   "pygments_lexer": "ipython3",
   "version": "3.7.0"
  }
 },
 "nbformat": 4,
 "nbformat_minor": 5
}
