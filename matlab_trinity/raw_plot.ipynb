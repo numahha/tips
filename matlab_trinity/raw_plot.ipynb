{
 "cells": [
  {
   "cell_type": "code",
   "execution_count": 1,
   "id": "7219b376",
   "metadata": {},
   "outputs": [],
   "source": [
    "import os\n",
    "import pandas as pd\n",
    "import numpy as np\n",
    "from tqdm import tqdm\n",
    "\n",
    "import matplotlib.pyplot as plt\n",
    "plt.rcParams['figure.figsize'] = (20.0, 10.0)\n",
    "plt.rcParams['font.family'] = \"MS Gothic\"\n",
    "plt.rcParams['font.size'] = 15\n",
    "\n",
    "downsample=5\n",
    "\n",
    "blacklist = []\n",
    "blacklist.append(\"realdata/20211001_203702_00000001\\\\0000000B.TXT\")\n"
   ]
  },
  {
   "cell_type": "code",
   "execution_count": 2,
   "id": "e365281d",
   "metadata": {},
   "outputs": [],
   "source": [
    "def pvmv_from_log(fn):\n",
    "    df = pd.read_table(fn,encoding='utf-16',sep='\\t',skiprows =[0,1,3])\n",
    "    \n",
    "    pv=[]\n",
    "    mv=[]\n",
    "    info=[]\n",
    "    # 11\tD8010\t目標値\tSP 送気温度（PH)\t10^-2\t℃\t\n",
    "    # 12\tD8011\t目標値\tSP PH後温度\t10^-2\t℃\t\n",
    "    # 13\tD8012\t目標値\tSP 送気温度（RH)\t10^-2\t℃\t\n",
    "    # 14\tD8013\t目標値\tSP 送気絶対湿度\t10^-5\tkg/kg\t\n",
    "    # 15\tD8014\t目標値\tSP 高圧加湿器ポンプ圧力\t10^-2\tMpa\t\n",
    "    # 16\tD8022\tPID PHマスタ\tPV 送気温度調節計 PH\t10^-2\t℃\t\n",
    "    # 17\tD8023\tPID PHマスタ\tSP 送気温度調節計 PH\t10^-2\t℃\t\n",
    "    # 18\tD8024\tPID PHマスタ\tMV 送気温度調節計 PH\t10^-1\t%\t\n",
    "    # 19\tD8032\tPID PHスレイブ\tPV PH後温度調節計\t10^-2\t℃\t\n",
    "    # 20\tD8033\tPID PHスレイブ\tSP PH後温度調節計\t10^-2\t℃\t\n",
    "    # 22\tD8042\tPID 送気温度\tPV 送気温度調節計\t10^-2\t℃\t\n",
    "    # 23\tD8043\tPID 送気温度\tSP 送気温度調節計\t10^-2\t℃\t\n",
    "    # 26\tD8052\tPID 送気絶対湿度\tPV 絶対湿度調節計 \t10^-5\tkg/kg\t\n",
    "    # 27\tD8053\tPID 送気絶対湿度\tSP 絶対湿度調節計 \t10^-5\tkg/kg\t\n",
    "    # 28\tD8055\tPID 送気絶対湿度\tMV(加熱) 絶対湿度調節計 \t10^-1\t%\t未使用\n",
    "    # 32\tD8062\tPID高圧加湿器ポンプ圧力\tPV 高圧加湿器ポンプ圧力調節計\t10^-2\tMpa\t\n",
    "    # 33\tD8063\tPID高圧加湿器ポンプ圧力\tSP 高圧加湿器ポンプ圧力調節計\t10^-2\tMpa\t\n",
    "    \n",
    "    pv.append(df[\"D8000\"].values * 0.01) # 4\tD8000\tセンサ入力\t送気温度\t10^-2\t℃\t\n",
    "    pv.append(df[\"D8001\"].values * 0.01) # 5\tD8001\tセンサ入力\t送気湿度\t10^-2\t％\t\n",
    "    pv.append(df[\"D8002\"].values * 0.01) # 6\tD8002\tセンサ入力\tPH後温度\t10^-2\t℃\t\n",
    "    pv.append(df[\"D8003\"].values * 0.01) # 7\tD8003\tセンサ入力\t壁温度\t10^-2\t℃    \n",
    "    pv.append(df[\"D8004\"].values * 0.01) # 8\tD8004\tセンサ入力\t外気温度\t10^-2\t℃\t    \n",
    "    pv.append(df[\"D8005\"].values * 0.01) # 9\tD8005\tセンサ入力\t外気湿度\t10^-2\t％\n",
    "    mv_mask = df[\"D8070.1\"].values # 31\tD8070.1\t稼働\t空調運転中\tBit\t\t1:設備運転中   \n",
    "    mv.append(mv_mask*df[\"D8034\"].values * 0.1) # 21\tD8034\tPID PHスレイブ\tMV PH後温度調節計\t10^-1\t%\tPH開度指令値    \n",
    "    mv.append(mv_mask*df[\"D8045\"].values * 0.1) # 24\tD8045\tPID 送気温度\tMV(加熱) 送気温度調節計\t10^-1\t%\tRH開度指令値\n",
    "    temp1 = df[\"D8046\"].values * 0.1 # 25\tD8046\tPID 送気温度\tMV(冷却) 送気温度調節計\t10^-1\t%\tCC開度指令値（D8046>D8056）\n",
    "    temp2 = df[\"D8056\"].values * 0.1 # 29\tD8056\tPID 送気絶対湿度\tMV(冷却) 絶対湿度調節計 \t10^-1\t%\tCC開度指令値（D8046＜D8056）\n",
    "    mv.append(mv_mask*np.stack([temp1, temp2],axis=0).max(axis=0))\n",
    "    mv.append(mv_mask*df[\"D8080\"].values) # 30\tD8080\t高圧加湿器\t高圧加湿器電磁弁個数\t10^0\t個\t0~８台（外気と目標の絶対湿度差からTEGAにて決定）\n",
    "    \n",
    "    info.append(df[\"D8070.1\"].values)\n",
    "    pv = np.array(pv).T\n",
    "    mv = np.array(mv).T\n",
    "    info = np.array(info).T\n",
    "    return pv, mv, info\n",
    "\n",
    "\n",
    "def downsampling(pv, mv, info, downsample):\n",
    "    _pv = []\n",
    "    _mv = []\n",
    "    _info = []\n",
    "    for i in range(pv.shape[0]//downsample):\n",
    "        _pv.append(pv[i*downsample : (i+1)*downsample].mean(axis=0))\n",
    "        _mv.append(mv[i*downsample : (i+1)*downsample].mean(axis=0))    \n",
    "        _info.append(info[i*downsample : (i+1)*downsample].mean(axis=0))    \n",
    "    return np.array(_pv), np.array(_mv), np.array(_info)\n",
    "\n",
    "\n"
   ]
  },
  {
   "cell_type": "code",
   "execution_count": 3,
   "id": "fc1d648c",
   "metadata": {},
   "outputs": [
    {
     "name": "stderr",
     "output_type": "stream",
     "text": [
      "100%|████████████████████████████████████████████████████████████████████████████████| 265/265 [03:31<00:00,  1.25it/s]\n"
     ]
    }
   ],
   "source": [
    "import glob\n",
    "logs_list = []\n",
    "logs_list += glob.glob('realdata/20210907_163440_00000001/*')\n",
    "logs_list += glob.glob('realdata/20210910_185237_00000001/*')\n",
    "logs_list += glob.glob('realdata/20210917_190118_00000001/*')\n",
    "logs_list += glob.glob('realdata/20210925_123940_00000001/*')\n",
    "logs_list += glob.glob('realdata/20211001_203702_00000001/*')\n",
    "\n",
    "logs_list = [fn for fn in logs_list if fn not in blacklist]\n",
    "\n",
    "\n",
    "pv_part_list=[]\n",
    "mv_part_list=[]\n",
    "\n",
    "for fn in tqdm(logs_list):\n",
    "    \n",
    "    pv, mv, info = pvmv_from_log(fn)\n",
    "    pv, mv, info = downsampling(pv, mv, info, downsample)\n",
    "    temp_pv_part=[]\n",
    "    temp_mv_part=[]    \n",
    "    for i in range(pv.shape[0]):\n",
    "        if info[i]>0.9999:\n",
    "            temp_pv_part.append(pv[i])\n",
    "            temp_mv_part.append(mv[i])\n",
    "        else:\n",
    "            if len(temp_pv_part)>0:\n",
    "                pv_part_list.append(np.array(temp_pv_part))\n",
    "                mv_part_list.append(np.array(temp_mv_part))            \n",
    "            temp_pv_part=[]\n",
    "            temp_mv_part=[]\n",
    "    if len(temp_pv_part)>0:\n",
    "        pv_part_list.append(np.array(temp_pv_part))\n",
    "        mv_part_list.append(np.array(temp_mv_part))            \n",
    "        "
   ]
  },
  {
   "cell_type": "code",
   "execution_count": 4,
   "id": "ecf90c17",
   "metadata": {},
   "outputs": [
    {
     "name": "stderr",
     "output_type": "stream",
     "text": [
      "100%|█████████████████████████████████████████████████████████████████████████████████| 83/83 [00:00<00:00, 145.35it/s]\n",
      "100%|██████████████████████████████████████████████████████████████████████████████████| 83/83 [00:18<00:00,  4.53it/s]\n"
     ]
    }
   ],
   "source": [
    "dir = \"processeddata\"+str(downsample)\n",
    "if not os.path.exists(dir):\n",
    "    os.makedirs(dir)\n",
    "\n",
    "y_list=[]\n",
    "u_list=[]\n",
    "init_flag=1\n",
    "for i in tqdm(range(len(pv_part_list))):\n",
    "    y = (pv_part_list[i])[:,3:4]\n",
    "    u = mv_part_list[i]\n",
    "    #u = np.concatenate([mv_part_list[i], (pv_part_list[i])[:,4:]],axis=1)\n",
    "    y_list.append(y)\n",
    "    u_list.append(u)\n",
    "    if init_flag==1:\n",
    "        y_concat = y[:]\n",
    "        u_concat = u[:]\n",
    "        init_flag=0\n",
    "    else:\n",
    "        y_concat = np.concatenate([y_concat, y],axis=0)\n",
    "        u_concat = np.concatenate([u_concat, u],axis=0)    \n",
    "    \n",
    "for i in tqdm(range(len(pv_part_list))):\n",
    "    np.savetxt(dir+\"\\\\y\"+str(i+1)+\".csv\", y_list[i]-y_concat.mean(axis=0), delimiter=\",\")\n",
    "    np.savetxt(dir+\"\\\\u\"+str(i+1)+\".csv\", u_list[i]-u_concat.mean(axis=0), delimiter=\",\")"
   ]
  },
  {
   "cell_type": "code",
   "execution_count": null,
   "id": "ee726e28",
   "metadata": {},
   "outputs": [],
   "source": []
  },
  {
   "cell_type": "code",
   "execution_count": null,
   "id": "92d1c1f7",
   "metadata": {},
   "outputs": [],
   "source": []
  },
  {
   "cell_type": "code",
   "execution_count": null,
   "id": "da191979",
   "metadata": {},
   "outputs": [],
   "source": []
  },
  {
   "cell_type": "code",
   "execution_count": null,
   "id": "b24d135c",
   "metadata": {},
   "outputs": [],
   "source": []
  },
  {
   "cell_type": "code",
   "execution_count": null,
   "id": "b6abbb7b",
   "metadata": {},
   "outputs": [],
   "source": []
  },
  {
   "cell_type": "code",
   "execution_count": null,
   "id": "dc43b33c",
   "metadata": {},
   "outputs": [],
   "source": []
  },
  {
   "cell_type": "code",
   "execution_count": null,
   "id": "b063840e",
   "metadata": {},
   "outputs": [],
   "source": []
  }
 ],
 "metadata": {
  "kernelspec": {
   "display_name": "Python 3 (ipykernel)",
   "language": "python",
   "name": "python3"
  },
  "language_info": {
   "codemirror_mode": {
    "name": "ipython",
    "version": 3
   },
   "file_extension": ".py",
   "mimetype": "text/x-python",
   "name": "python",
   "nbconvert_exporter": "python",
   "pygments_lexer": "ipython3",
   "version": "3.7.0"
  }
 },
 "nbformat": 4,
 "nbformat_minor": 5
}
